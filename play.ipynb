{
 "cells": [
  {
   "cell_type": "code",
   "execution_count": null,
   "id": "2b0328a7",
   "metadata": {},
   "outputs": [],
   "source": [
    "import reporanger as rr\n",
    "\n",
    "rr.Token.set_token(\n",
    "    \"\"\n",
    ")"
   ]
  },
  {
   "cell_type": "code",
   "execution_count": 5,
   "id": "efd9f656",
   "metadata": {},
   "outputs": [
    {
     "data": {
      "text/plain": [
       "5000"
      ]
     },
     "execution_count": 5,
     "metadata": {},
     "output_type": "execute_result"
    }
   ],
   "source": [
    "rr.Token.limit()"
   ]
  },
  {
   "cell_type": "code",
   "execution_count": 6,
   "id": "6c38a2fa",
   "metadata": {},
   "outputs": [
    {
     "data": {
      "text/plain": [
       "4988"
      ]
     },
     "execution_count": 6,
     "metadata": {},
     "output_type": "execute_result"
    }
   ],
   "source": [
    "rr.Token.remaining()"
   ]
  },
  {
   "cell_type": "code",
   "execution_count": 7,
   "id": "d0f732ae",
   "metadata": {},
   "outputs": [
    {
     "name": "stdout",
     "output_type": "stream",
     "text": [
      "2025-06-03 13:46:10\n"
     ]
    }
   ],
   "source": [
    "print(rr.Token.reset_time())"
   ]
  },
  {
   "cell_type": "code",
   "execution_count": 8,
   "id": "dbdb3e21",
   "metadata": {},
   "outputs": [],
   "source": [
    "org = rr.Org(\"ese-msc-2022\")"
   ]
  },
  {
   "cell_type": "code",
   "execution_count": 9,
   "id": "3aa47dad",
   "metadata": {},
   "outputs": [
    {
     "data": {
      "text/plain": [
       "True"
      ]
     },
     "execution_count": 9,
     "metadata": {},
     "output_type": "execute_result"
    }
   ],
   "source": [
    "org.exists()"
   ]
  },
  {
   "cell_type": "code",
   "execution_count": 10,
   "id": "4c27d459",
   "metadata": {},
   "outputs": [
    {
     "data": {
      "text/plain": [
       "3608"
      ]
     },
     "execution_count": 10,
     "metadata": {},
     "output_type": "execute_result"
    }
   ],
   "source": [
    "org.n_private_repos"
   ]
  },
  {
   "cell_type": "code",
   "execution_count": 11,
   "id": "8680dfdb",
   "metadata": {},
   "outputs": [
    {
     "data": {
      "text/plain": [
       "2"
      ]
     },
     "execution_count": 11,
     "metadata": {},
     "output_type": "execute_result"
    }
   ],
   "source": [
    "org.n_public_repos"
   ]
  },
  {
   "cell_type": "code",
   "execution_count": 12,
   "id": "701d74da",
   "metadata": {},
   "outputs": [
    {
     "data": {
      "text/plain": [
       "3610"
      ]
     },
     "execution_count": 12,
     "metadata": {},
     "output_type": "execute_result"
    }
   ],
   "source": [
    "org.n_repos"
   ]
  },
  {
   "cell_type": "code",
   "execution_count": 10,
   "id": "a970e8dd",
   "metadata": {},
   "outputs": [
    {
     "name": "stderr",
     "output_type": "stream",
     "text": [
      "Fetching repos: 100%|██████████| 3610/3610 [01:19<00:00, 45.63it/s]\n"
     ]
    }
   ],
   "source": [
    "data = org.repos()"
   ]
  },
  {
   "cell_type": "code",
   "execution_count": 11,
   "id": "5a5c7d78",
   "metadata": {},
   "outputs": [
    {
     "data": {
      "text/html": [
       "<div>\n",
       "<style scoped>\n",
       "    .dataframe tbody tr th:only-of-type {\n",
       "        vertical-align: middle;\n",
       "    }\n",
       "\n",
       "    .dataframe tbody tr th {\n",
       "        vertical-align: top;\n",
       "    }\n",
       "\n",
       "    .dataframe thead th {\n",
       "        text-align: right;\n",
       "    }\n",
       "</style>\n",
       "<table border=\"1\" class=\"dataframe\">\n",
       "  <thead>\n",
       "    <tr style=\"text-align: right;\">\n",
       "      <th></th>\n",
       "      <th>name</th>\n",
       "      <th>full_name</th>\n",
       "      <th>description</th>\n",
       "      <th>private</th>\n",
       "      <th>is_template</th>\n",
       "      <th>url</th>\n",
       "      <th>html_url</th>\n",
       "      <th>clone_url</th>\n",
       "      <th>fork</th>\n",
       "      <th>created_at</th>\n",
       "      <th>updated_at</th>\n",
       "      <th>pushed_at</th>\n",
       "      <th>default_branch</th>\n",
       "      <th>size</th>\n",
       "      <th>archived</th>\n",
       "    </tr>\n",
       "    <tr>\n",
       "      <th>id</th>\n",
       "      <th></th>\n",
       "      <th></th>\n",
       "      <th></th>\n",
       "      <th></th>\n",
       "      <th></th>\n",
       "      <th></th>\n",
       "      <th></th>\n",
       "      <th></th>\n",
       "      <th></th>\n",
       "      <th></th>\n",
       "      <th></th>\n",
       "      <th></th>\n",
       "      <th></th>\n",
       "      <th></th>\n",
       "      <th></th>\n",
       "    </tr>\n",
       "  </thead>\n",
       "  <tbody>\n",
       "    <tr>\n",
       "      <th>545505198</th>\n",
       "      <td>laptop-setup</td>\n",
       "      <td>ese-msc-2022/laptop-setup</td>\n",
       "      <td>None</td>\n",
       "      <td>True</td>\n",
       "      <td>False</td>\n",
       "      <td>https://api.github.com/repos/ese-msc-2022/lapt...</td>\n",
       "      <td>https://github.com/ese-msc-2022/laptop-setup</td>\n",
       "      <td>https://github.com/ese-msc-2022/laptop-setup.git</td>\n",
       "      <td>False</td>\n",
       "      <td>2022-10-04 13:43:38</td>\n",
       "      <td>2024-01-20 09:14:45</td>\n",
       "      <td>2023-01-31 12:53:48</td>\n",
       "      <td>master</td>\n",
       "      <td>886</td>\n",
       "      <td>False</td>\n",
       "    </tr>\n",
       "    <tr>\n",
       "      <th>545515235</th>\n",
       "      <td>introduction-to-python</td>\n",
       "      <td>ese-msc-2022/introduction-to-python</td>\n",
       "      <td>None</td>\n",
       "      <td>True</td>\n",
       "      <td>True</td>\n",
       "      <td>https://api.github.com/repos/ese-msc-2022/intr...</td>\n",
       "      <td>https://github.com/ese-msc-2022/introduction-t...</td>\n",
       "      <td>https://github.com/ese-msc-2022/introduction-t...</td>\n",
       "      <td>False</td>\n",
       "      <td>2022-10-04 14:02:29</td>\n",
       "      <td>2022-10-04 14:16:03</td>\n",
       "      <td>2022-10-04 14:15:48</td>\n",
       "      <td>main</td>\n",
       "      <td>436</td>\n",
       "      <td>False</td>\n",
       "    </tr>\n",
       "    <tr>\n",
       "      <th>545525684</th>\n",
       "      <td>introduction-to-python-jrper</td>\n",
       "      <td>ese-msc-2022/introduction-to-python-jrper</td>\n",
       "      <td>introduction-to-python-jrper created by GitHub...</td>\n",
       "      <td>True</td>\n",
       "      <td>False</td>\n",
       "      <td>https://api.github.com/repos/ese-msc-2022/intr...</td>\n",
       "      <td>https://github.com/ese-msc-2022/introduction-t...</td>\n",
       "      <td>https://github.com/ese-msc-2022/introduction-t...</td>\n",
       "      <td>False</td>\n",
       "      <td>2022-10-04 14:22:39</td>\n",
       "      <td>2022-10-04 14:22:45</td>\n",
       "      <td>2022-10-04 14:22:41</td>\n",
       "      <td>main</td>\n",
       "      <td>155</td>\n",
       "      <td>False</td>\n",
       "    </tr>\n",
       "    <tr>\n",
       "      <th>545565605</th>\n",
       "      <td>ese-msc-2022.github.io</td>\n",
       "      <td>ese-msc-2022/ese-msc-2022.github.io</td>\n",
       "      <td>None</td>\n",
       "      <td>True</td>\n",
       "      <td>False</td>\n",
       "      <td>https://api.github.com/repos/ese-msc-2022/ese-...</td>\n",
       "      <td>https://github.com/ese-msc-2022/ese-msc-2022.g...</td>\n",
       "      <td>https://github.com/ese-msc-2022/ese-msc-2022.g...</td>\n",
       "      <td>False</td>\n",
       "      <td>2022-10-04 15:40:18</td>\n",
       "      <td>2022-10-04 15:40:20</td>\n",
       "      <td>2022-10-04 16:16:49</td>\n",
       "      <td>main</td>\n",
       "      <td>3</td>\n",
       "      <td>False</td>\n",
       "    </tr>\n",
       "    <tr>\n",
       "      <th>545584773</th>\n",
       "      <td>introduction-to-python-gems-209c1a69</td>\n",
       "      <td>ese-msc-2022/introduction-to-python-gems-209c1a69</td>\n",
       "      <td>introduction-to-python-gems-209c1a69 created b...</td>\n",
       "      <td>True</td>\n",
       "      <td>False</td>\n",
       "      <td>https://api.github.com/repos/ese-msc-2022/intr...</td>\n",
       "      <td>https://github.com/ese-msc-2022/introduction-t...</td>\n",
       "      <td>https://github.com/ese-msc-2022/introduction-t...</td>\n",
       "      <td>False</td>\n",
       "      <td>2022-10-04 16:20:44</td>\n",
       "      <td>2022-10-04 16:20:50</td>\n",
       "      <td>2022-10-05 13:22:56</td>\n",
       "      <td>main</td>\n",
       "      <td>365</td>\n",
       "      <td>False</td>\n",
       "    </tr>\n",
       "    <tr>\n",
       "      <th>...</th>\n",
       "      <td>...</td>\n",
       "      <td>...</td>\n",
       "      <td>...</td>\n",
       "      <td>...</td>\n",
       "      <td>...</td>\n",
       "      <td>...</td>\n",
       "      <td>...</td>\n",
       "      <td>...</td>\n",
       "      <td>...</td>\n",
       "      <td>...</td>\n",
       "      <td>...</td>\n",
       "      <td>...</td>\n",
       "      <td>...</td>\n",
       "      <td>...</td>\n",
       "      <td>...</td>\n",
       "    </tr>\n",
       "    <tr>\n",
       "      <th>720097000</th>\n",
       "      <td>bda-assessment-test2</td>\n",
       "      <td>ese-msc-2022/bda-assessment-test2</td>\n",
       "      <td>None</td>\n",
       "      <td>True</td>\n",
       "      <td>False</td>\n",
       "      <td>https://api.github.com/repos/ese-msc-2022/bda-...</td>\n",
       "      <td>https://github.com/ese-msc-2022/bda-assessment...</td>\n",
       "      <td>https://github.com/ese-msc-2022/bda-assessment...</td>\n",
       "      <td>False</td>\n",
       "      <td>2023-11-17 15:16:38</td>\n",
       "      <td>2023-11-17 15:16:39</td>\n",
       "      <td>2023-11-17 15:16:39</td>\n",
       "      <td>main</td>\n",
       "      <td>0</td>\n",
       "      <td>False</td>\n",
       "    </tr>\n",
       "    <tr>\n",
       "      <th>720111011</th>\n",
       "      <td>bda-assessment-test5</td>\n",
       "      <td>ese-msc-2022/bda-assessment-test5</td>\n",
       "      <td>None</td>\n",
       "      <td>True</td>\n",
       "      <td>False</td>\n",
       "      <td>https://api.github.com/repos/ese-msc-2022/bda-...</td>\n",
       "      <td>https://github.com/ese-msc-2022/bda-assessment...</td>\n",
       "      <td>https://github.com/ese-msc-2022/bda-assessment...</td>\n",
       "      <td>False</td>\n",
       "      <td>2023-11-17 15:48:23</td>\n",
       "      <td>2023-11-17 15:48:24</td>\n",
       "      <td>2023-11-17 15:48:24</td>\n",
       "      <td>main</td>\n",
       "      <td>0</td>\n",
       "      <td>False</td>\n",
       "    </tr>\n",
       "    <tr>\n",
       "      <th>720113163</th>\n",
       "      <td>bda-assessment-test6</td>\n",
       "      <td>ese-msc-2022/bda-assessment-test6</td>\n",
       "      <td>None</td>\n",
       "      <td>True</td>\n",
       "      <td>False</td>\n",
       "      <td>https://api.github.com/repos/ese-msc-2022/bda-...</td>\n",
       "      <td>https://github.com/ese-msc-2022/bda-assessment...</td>\n",
       "      <td>https://github.com/ese-msc-2022/bda-assessment...</td>\n",
       "      <td>False</td>\n",
       "      <td>2023-11-17 15:52:58</td>\n",
       "      <td>2023-11-17 15:52:58</td>\n",
       "      <td>2023-11-17 15:53:00</td>\n",
       "      <td>main</td>\n",
       "      <td>337</td>\n",
       "      <td>False</td>\n",
       "    </tr>\n",
       "    <tr>\n",
       "      <th>720119288</th>\n",
       "      <td>ads-deluge-group1</td>\n",
       "      <td>ese-msc-2022/ads-deluge-group1</td>\n",
       "      <td>None</td>\n",
       "      <td>True</td>\n",
       "      <td>False</td>\n",
       "      <td>https://api.github.com/repos/ese-msc-2022/ads-...</td>\n",
       "      <td>https://github.com/ese-msc-2022/ads-deluge-group1</td>\n",
       "      <td>https://github.com/ese-msc-2022/ads-deluge-gro...</td>\n",
       "      <td>False</td>\n",
       "      <td>2023-11-17 16:06:13</td>\n",
       "      <td>2023-11-17 16:06:22</td>\n",
       "      <td>2023-11-17 16:06:16</td>\n",
       "      <td>main</td>\n",
       "      <td>3775</td>\n",
       "      <td>False</td>\n",
       "    </tr>\n",
       "    <tr>\n",
       "      <th>915715666</th>\n",
       "      <td>acse-mnm-2022-2023-assessment2-3-kl4120</td>\n",
       "      <td>ese-msc-2022/acse-mnm-2022-2023-assessment2-3-...</td>\n",
       "      <td>None</td>\n",
       "      <td>True</td>\n",
       "      <td>False</td>\n",
       "      <td>https://api.github.com/repos/ese-msc-2022/acse...</td>\n",
       "      <td>https://github.com/ese-msc-2022/acse-mnm-2022-...</td>\n",
       "      <td>https://github.com/ese-msc-2022/acse-mnm-2022-...</td>\n",
       "      <td>True</td>\n",
       "      <td>2025-01-12 16:07:10</td>\n",
       "      <td>2025-01-12 16:07:10</td>\n",
       "      <td>2023-01-26 09:17:49</td>\n",
       "      <td>main</td>\n",
       "      <td>132</td>\n",
       "      <td>False</td>\n",
       "    </tr>\n",
       "  </tbody>\n",
       "</table>\n",
       "<p>3610 rows × 15 columns</p>\n",
       "</div>"
      ],
      "text/plain": [
       "                                              name  \\\n",
       "id                                                   \n",
       "545505198                             laptop-setup   \n",
       "545515235                   introduction-to-python   \n",
       "545525684             introduction-to-python-jrper   \n",
       "545565605                   ese-msc-2022.github.io   \n",
       "545584773     introduction-to-python-gems-209c1a69   \n",
       "...                                            ...   \n",
       "720097000                     bda-assessment-test2   \n",
       "720111011                     bda-assessment-test5   \n",
       "720113163                     bda-assessment-test6   \n",
       "720119288                        ads-deluge-group1   \n",
       "915715666  acse-mnm-2022-2023-assessment2-3-kl4120   \n",
       "\n",
       "                                                   full_name  \\\n",
       "id                                                             \n",
       "545505198                          ese-msc-2022/laptop-setup   \n",
       "545515235                ese-msc-2022/introduction-to-python   \n",
       "545525684          ese-msc-2022/introduction-to-python-jrper   \n",
       "545565605                ese-msc-2022/ese-msc-2022.github.io   \n",
       "545584773  ese-msc-2022/introduction-to-python-gems-209c1a69   \n",
       "...                                                      ...   \n",
       "720097000                  ese-msc-2022/bda-assessment-test2   \n",
       "720111011                  ese-msc-2022/bda-assessment-test5   \n",
       "720113163                  ese-msc-2022/bda-assessment-test6   \n",
       "720119288                     ese-msc-2022/ads-deluge-group1   \n",
       "915715666  ese-msc-2022/acse-mnm-2022-2023-assessment2-3-...   \n",
       "\n",
       "                                                 description  private  \\\n",
       "id                                                                      \n",
       "545505198                                               None     True   \n",
       "545515235                                               None     True   \n",
       "545525684  introduction-to-python-jrper created by GitHub...     True   \n",
       "545565605                                               None     True   \n",
       "545584773  introduction-to-python-gems-209c1a69 created b...     True   \n",
       "...                                                      ...      ...   \n",
       "720097000                                               None     True   \n",
       "720111011                                               None     True   \n",
       "720113163                                               None     True   \n",
       "720119288                                               None     True   \n",
       "915715666                                               None     True   \n",
       "\n",
       "           is_template                                                url  \\\n",
       "id                                                                          \n",
       "545505198        False  https://api.github.com/repos/ese-msc-2022/lapt...   \n",
       "545515235         True  https://api.github.com/repos/ese-msc-2022/intr...   \n",
       "545525684        False  https://api.github.com/repos/ese-msc-2022/intr...   \n",
       "545565605        False  https://api.github.com/repos/ese-msc-2022/ese-...   \n",
       "545584773        False  https://api.github.com/repos/ese-msc-2022/intr...   \n",
       "...                ...                                                ...   \n",
       "720097000        False  https://api.github.com/repos/ese-msc-2022/bda-...   \n",
       "720111011        False  https://api.github.com/repos/ese-msc-2022/bda-...   \n",
       "720113163        False  https://api.github.com/repos/ese-msc-2022/bda-...   \n",
       "720119288        False  https://api.github.com/repos/ese-msc-2022/ads-...   \n",
       "915715666        False  https://api.github.com/repos/ese-msc-2022/acse...   \n",
       "\n",
       "                                                    html_url  \\\n",
       "id                                                             \n",
       "545505198       https://github.com/ese-msc-2022/laptop-setup   \n",
       "545515235  https://github.com/ese-msc-2022/introduction-t...   \n",
       "545525684  https://github.com/ese-msc-2022/introduction-t...   \n",
       "545565605  https://github.com/ese-msc-2022/ese-msc-2022.g...   \n",
       "545584773  https://github.com/ese-msc-2022/introduction-t...   \n",
       "...                                                      ...   \n",
       "720097000  https://github.com/ese-msc-2022/bda-assessment...   \n",
       "720111011  https://github.com/ese-msc-2022/bda-assessment...   \n",
       "720113163  https://github.com/ese-msc-2022/bda-assessment...   \n",
       "720119288  https://github.com/ese-msc-2022/ads-deluge-group1   \n",
       "915715666  https://github.com/ese-msc-2022/acse-mnm-2022-...   \n",
       "\n",
       "                                                   clone_url   fork  \\\n",
       "id                                                                    \n",
       "545505198   https://github.com/ese-msc-2022/laptop-setup.git  False   \n",
       "545515235  https://github.com/ese-msc-2022/introduction-t...  False   \n",
       "545525684  https://github.com/ese-msc-2022/introduction-t...  False   \n",
       "545565605  https://github.com/ese-msc-2022/ese-msc-2022.g...  False   \n",
       "545584773  https://github.com/ese-msc-2022/introduction-t...  False   \n",
       "...                                                      ...    ...   \n",
       "720097000  https://github.com/ese-msc-2022/bda-assessment...  False   \n",
       "720111011  https://github.com/ese-msc-2022/bda-assessment...  False   \n",
       "720113163  https://github.com/ese-msc-2022/bda-assessment...  False   \n",
       "720119288  https://github.com/ese-msc-2022/ads-deluge-gro...  False   \n",
       "915715666  https://github.com/ese-msc-2022/acse-mnm-2022-...   True   \n",
       "\n",
       "                   created_at          updated_at           pushed_at  \\\n",
       "id                                                                      \n",
       "545505198 2022-10-04 13:43:38 2024-01-20 09:14:45 2023-01-31 12:53:48   \n",
       "545515235 2022-10-04 14:02:29 2022-10-04 14:16:03 2022-10-04 14:15:48   \n",
       "545525684 2022-10-04 14:22:39 2022-10-04 14:22:45 2022-10-04 14:22:41   \n",
       "545565605 2022-10-04 15:40:18 2022-10-04 15:40:20 2022-10-04 16:16:49   \n",
       "545584773 2022-10-04 16:20:44 2022-10-04 16:20:50 2022-10-05 13:22:56   \n",
       "...                       ...                 ...                 ...   \n",
       "720097000 2023-11-17 15:16:38 2023-11-17 15:16:39 2023-11-17 15:16:39   \n",
       "720111011 2023-11-17 15:48:23 2023-11-17 15:48:24 2023-11-17 15:48:24   \n",
       "720113163 2023-11-17 15:52:58 2023-11-17 15:52:58 2023-11-17 15:53:00   \n",
       "720119288 2023-11-17 16:06:13 2023-11-17 16:06:22 2023-11-17 16:06:16   \n",
       "915715666 2025-01-12 16:07:10 2025-01-12 16:07:10 2023-01-26 09:17:49   \n",
       "\n",
       "          default_branch  size  archived  \n",
       "id                                        \n",
       "545505198         master   886     False  \n",
       "545515235           main   436     False  \n",
       "545525684           main   155     False  \n",
       "545565605           main     3     False  \n",
       "545584773           main   365     False  \n",
       "...                  ...   ...       ...  \n",
       "720097000           main     0     False  \n",
       "720111011           main     0     False  \n",
       "720113163           main   337     False  \n",
       "720119288           main  3775     False  \n",
       "915715666           main   132     False  \n",
       "\n",
       "[3610 rows x 15 columns]"
      ]
     },
     "execution_count": 11,
     "metadata": {},
     "output_type": "execute_result"
    }
   ],
   "source": [
    "data"
   ]
  },
  {
   "cell_type": "code",
   "execution_count": 13,
   "id": "e669205d",
   "metadata": {},
   "outputs": [
    {
     "data": {
      "text/plain": [
       "True"
      ]
     },
     "execution_count": 13,
     "metadata": {},
     "output_type": "execute_result"
    }
   ],
   "source": [
    "repo = rr.Repo(\"ese-msc-2022\", \"irp-zc522\")\n",
    "\n",
    "repo.exists()"
   ]
  },
  {
   "cell_type": "code",
   "execution_count": 15,
   "id": "96a14939",
   "metadata": {},
   "outputs": [
    {
     "name": "stdout",
     "output_type": "stream",
     "text": [
      "# IRP\n",
      "\n",
      "## About this template\n",
      "\n",
      "We generated this repository for you to work in during your IRP. Please note that if your code is confidential, you do not need to submit your code here.\n",
      "\n",
      "- For project information updates, please refer to `README.md` in [`info/`](./info) directory.\n",
      "- For details on deliverable submissions, please refer to `README.md` in [`reports/`](./reports) directory.\n",
      "\n",
      "If you have any questions or experience any difficulties, please get in touch with Marijan (m.beg@imperial.ac.uk).\n",
      "\n",
      "Please feel free to remove this text from `README.md` and write it the way you want. ;)\n",
      "\n"
     ]
    }
   ],
   "source": [
    "print(repo.file_content('README.md', branch='main'))"
   ]
  },
  {
   "cell_type": "code",
   "execution_count": null,
   "id": "4061947f",
   "metadata": {},
   "outputs": [],
   "source": []
  }
 ],
 "metadata": {
  "kernelspec": {
   "display_name": ".venv",
   "language": "python",
   "name": "python3"
  },
  "language_info": {
   "codemirror_mode": {
    "name": "ipython",
    "version": 3
   },
   "file_extension": ".py",
   "mimetype": "text/x-python",
   "name": "python",
   "nbconvert_exporter": "python",
   "pygments_lexer": "ipython3",
   "version": "3.13.2"
  }
 },
 "nbformat": 4,
 "nbformat_minor": 5
}
